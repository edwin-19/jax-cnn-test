{
  "nbformat": 4,
  "nbformat_minor": 0,
  "metadata": {
    "colab": {
      "name": "CNN Jax.ipynb",
      "provenance": [],
      "collapsed_sections": []
    },
    "kernelspec": {
      "name": "python3",
      "display_name": "Python 3"
    },
    "language_info": {
      "name": "python"
    },
    "accelerator": "GPU",
    "widgets": {
      "application/vnd.jupyter.widget-state+json": {
        "90d294fbe3ca4d8eba60aee9d405f84d": {
          "model_module": "@jupyter-widgets/controls",
          "model_name": "HBoxModel",
          "state": {
            "_view_name": "HBoxView",
            "_dom_classes": [],
            "_model_name": "HBoxModel",
            "_view_module": "@jupyter-widgets/controls",
            "_model_module_version": "1.5.0",
            "_view_count": null,
            "_view_module_version": "1.5.0",
            "box_style": "",
            "layout": "IPY_MODEL_589f17f12d9b447b91f4c476d1455832",
            "_model_module": "@jupyter-widgets/controls",
            "children": [
              "IPY_MODEL_97945075ba51463180d6a0277a9eec8c",
              "IPY_MODEL_91342dd2e9724b8197e34a931dee24d3"
            ]
          }
        },
        "589f17f12d9b447b91f4c476d1455832": {
          "model_module": "@jupyter-widgets/base",
          "model_name": "LayoutModel",
          "state": {
            "_view_name": "LayoutView",
            "grid_template_rows": null,
            "right": null,
            "justify_content": null,
            "_view_module": "@jupyter-widgets/base",
            "overflow": null,
            "_model_module_version": "1.2.0",
            "_view_count": null,
            "flex_flow": null,
            "width": null,
            "min_width": null,
            "border": null,
            "align_items": null,
            "bottom": null,
            "_model_module": "@jupyter-widgets/base",
            "top": null,
            "grid_column": null,
            "overflow_y": null,
            "overflow_x": null,
            "grid_auto_flow": null,
            "grid_area": null,
            "grid_template_columns": null,
            "flex": null,
            "_model_name": "LayoutModel",
            "justify_items": null,
            "grid_row": null,
            "max_height": null,
            "align_content": null,
            "visibility": null,
            "align_self": null,
            "height": null,
            "min_height": null,
            "padding": null,
            "grid_auto_rows": null,
            "grid_gap": null,
            "max_width": null,
            "order": null,
            "_view_module_version": "1.2.0",
            "grid_template_areas": null,
            "object_position": null,
            "object_fit": null,
            "grid_auto_columns": null,
            "margin": null,
            "display": null,
            "left": null
          }
        },
        "97945075ba51463180d6a0277a9eec8c": {
          "model_module": "@jupyter-widgets/controls",
          "model_name": "FloatProgressModel",
          "state": {
            "_view_name": "ProgressView",
            "style": "IPY_MODEL_4144d4faa2f340a9b0719b7a83cbdc1a",
            "_dom_classes": [],
            "description": "100%",
            "_model_name": "FloatProgressModel",
            "bar_style": "success",
            "max": 10,
            "_view_module": "@jupyter-widgets/controls",
            "_model_module_version": "1.5.0",
            "value": 10,
            "_view_count": null,
            "_view_module_version": "1.5.0",
            "orientation": "horizontal",
            "min": 0,
            "description_tooltip": null,
            "_model_module": "@jupyter-widgets/controls",
            "layout": "IPY_MODEL_8e6b3b9660b84a62a381a7f07438777b"
          }
        },
        "91342dd2e9724b8197e34a931dee24d3": {
          "model_module": "@jupyter-widgets/controls",
          "model_name": "HTMLModel",
          "state": {
            "_view_name": "HTMLView",
            "style": "IPY_MODEL_9d7dd3bb0b094dbb9fc8a00afa219505",
            "_dom_classes": [],
            "description": "",
            "_model_name": "HTMLModel",
            "placeholder": "​",
            "_view_module": "@jupyter-widgets/controls",
            "_model_module_version": "1.5.0",
            "value": " 10/10 [01:04&lt;00:00,  6.48s/it]",
            "_view_count": null,
            "_view_module_version": "1.5.0",
            "description_tooltip": null,
            "_model_module": "@jupyter-widgets/controls",
            "layout": "IPY_MODEL_fb6e8b3126324aeead09266f83db237b"
          }
        },
        "4144d4faa2f340a9b0719b7a83cbdc1a": {
          "model_module": "@jupyter-widgets/controls",
          "model_name": "ProgressStyleModel",
          "state": {
            "_view_name": "StyleView",
            "_model_name": "ProgressStyleModel",
            "description_width": "initial",
            "_view_module": "@jupyter-widgets/base",
            "_model_module_version": "1.5.0",
            "_view_count": null,
            "_view_module_version": "1.2.0",
            "bar_color": null,
            "_model_module": "@jupyter-widgets/controls"
          }
        },
        "8e6b3b9660b84a62a381a7f07438777b": {
          "model_module": "@jupyter-widgets/base",
          "model_name": "LayoutModel",
          "state": {
            "_view_name": "LayoutView",
            "grid_template_rows": null,
            "right": null,
            "justify_content": null,
            "_view_module": "@jupyter-widgets/base",
            "overflow": null,
            "_model_module_version": "1.2.0",
            "_view_count": null,
            "flex_flow": null,
            "width": null,
            "min_width": null,
            "border": null,
            "align_items": null,
            "bottom": null,
            "_model_module": "@jupyter-widgets/base",
            "top": null,
            "grid_column": null,
            "overflow_y": null,
            "overflow_x": null,
            "grid_auto_flow": null,
            "grid_area": null,
            "grid_template_columns": null,
            "flex": null,
            "_model_name": "LayoutModel",
            "justify_items": null,
            "grid_row": null,
            "max_height": null,
            "align_content": null,
            "visibility": null,
            "align_self": null,
            "height": null,
            "min_height": null,
            "padding": null,
            "grid_auto_rows": null,
            "grid_gap": null,
            "max_width": null,
            "order": null,
            "_view_module_version": "1.2.0",
            "grid_template_areas": null,
            "object_position": null,
            "object_fit": null,
            "grid_auto_columns": null,
            "margin": null,
            "display": null,
            "left": null
          }
        },
        "9d7dd3bb0b094dbb9fc8a00afa219505": {
          "model_module": "@jupyter-widgets/controls",
          "model_name": "DescriptionStyleModel",
          "state": {
            "_view_name": "StyleView",
            "_model_name": "DescriptionStyleModel",
            "description_width": "",
            "_view_module": "@jupyter-widgets/base",
            "_model_module_version": "1.5.0",
            "_view_count": null,
            "_view_module_version": "1.2.0",
            "_model_module": "@jupyter-widgets/controls"
          }
        },
        "fb6e8b3126324aeead09266f83db237b": {
          "model_module": "@jupyter-widgets/base",
          "model_name": "LayoutModel",
          "state": {
            "_view_name": "LayoutView",
            "grid_template_rows": null,
            "right": null,
            "justify_content": null,
            "_view_module": "@jupyter-widgets/base",
            "overflow": null,
            "_model_module_version": "1.2.0",
            "_view_count": null,
            "flex_flow": null,
            "width": null,
            "min_width": null,
            "border": null,
            "align_items": null,
            "bottom": null,
            "_model_module": "@jupyter-widgets/base",
            "top": null,
            "grid_column": null,
            "overflow_y": null,
            "overflow_x": null,
            "grid_auto_flow": null,
            "grid_area": null,
            "grid_template_columns": null,
            "flex": null,
            "_model_name": "LayoutModel",
            "justify_items": null,
            "grid_row": null,
            "max_height": null,
            "align_content": null,
            "visibility": null,
            "align_self": null,
            "height": null,
            "min_height": null,
            "padding": null,
            "grid_auto_rows": null,
            "grid_gap": null,
            "max_width": null,
            "order": null,
            "_view_module_version": "1.2.0",
            "grid_template_areas": null,
            "object_position": null,
            "object_fit": null,
            "grid_auto_columns": null,
            "margin": null,
            "display": null,
            "left": null
          }
        }
      }
    }
  },
  "cells": [
    {
      "cell_type": "markdown",
      "metadata": {
        "id": "BKd2P_TOFyJz"
      },
      "source": [
        "# Lets install flax first \n",
        "- Colab does not come default with flax suprising, hmm install first"
      ]
    },
    {
      "cell_type": "code",
      "metadata": {
        "colab": {
          "base_uri": "https://localhost:8080/"
        },
        "id": "B99XNJnzFusy",
        "outputId": "b361e31e-c9cf-4876-e637-1a61553bd0d5"
      },
      "source": [
        "!pip install flax"
      ],
      "execution_count": 1,
      "outputs": [
        {
          "output_type": "stream",
          "text": [
            "Requirement already satisfied: flax in /usr/local/lib/python3.7/dist-packages (0.3.4)\n",
            "Requirement already satisfied: msgpack in /usr/local/lib/python3.7/dist-packages (from flax) (1.0.2)\n",
            "Requirement already satisfied: numpy>=1.12 in /usr/local/lib/python3.7/dist-packages (from flax) (1.19.5)\n",
            "Requirement already satisfied: matplotlib in /usr/local/lib/python3.7/dist-packages (from flax) (3.2.2)\n",
            "Requirement already satisfied: optax in /usr/local/lib/python3.7/dist-packages (from flax) (0.0.9)\n",
            "Requirement already satisfied: jax>=0.2.13 in /usr/local/lib/python3.7/dist-packages (from flax) (0.2.17)\n",
            "Requirement already satisfied: opt-einsum in /usr/local/lib/python3.7/dist-packages (from jax>=0.2.13->flax) (3.3.0)\n",
            "Requirement already satisfied: absl-py in /usr/local/lib/python3.7/dist-packages (from jax>=0.2.13->flax) (0.12.0)\n",
            "Requirement already satisfied: six in /usr/local/lib/python3.7/dist-packages (from absl-py->jax>=0.2.13->flax) (1.15.0)\n",
            "Requirement already satisfied: kiwisolver>=1.0.1 in /usr/local/lib/python3.7/dist-packages (from matplotlib->flax) (1.3.1)\n",
            "Requirement already satisfied: pyparsing!=2.0.4,!=2.1.2,!=2.1.6,>=2.0.1 in /usr/local/lib/python3.7/dist-packages (from matplotlib->flax) (2.4.7)\n",
            "Requirement already satisfied: cycler>=0.10 in /usr/local/lib/python3.7/dist-packages (from matplotlib->flax) (0.10.0)\n",
            "Requirement already satisfied: python-dateutil>=2.1 in /usr/local/lib/python3.7/dist-packages (from matplotlib->flax) (2.8.1)\n",
            "Requirement already satisfied: chex>=0.0.4 in /usr/local/lib/python3.7/dist-packages (from optax->flax) (0.0.8)\n",
            "Requirement already satisfied: jaxlib>=0.1.37 in /usr/local/lib/python3.7/dist-packages (from optax->flax) (0.1.69+cuda110)\n",
            "Requirement already satisfied: toolz>=0.9.0 in /usr/local/lib/python3.7/dist-packages (from chex>=0.0.4->optax->flax) (0.11.1)\n",
            "Requirement already satisfied: dm-tree>=0.1.5 in /usr/local/lib/python3.7/dist-packages (from chex>=0.0.4->optax->flax) (0.1.6)\n",
            "Requirement already satisfied: scipy in /usr/local/lib/python3.7/dist-packages (from jaxlib>=0.1.37->optax->flax) (1.4.1)\n",
            "Requirement already satisfied: flatbuffers<3.0,>=1.12 in /usr/local/lib/python3.7/dist-packages (from jaxlib>=0.1.37->optax->flax) (1.12)\n"
          ],
          "name": "stdout"
        }
      ]
    },
    {
      "cell_type": "markdown",
      "metadata": {
        "id": "nLheRZpaGDj5"
      },
      "source": [
        "# Lets settle the import first\n",
        "- Since we need a dataset we have to borrow from tensorflow datasets"
      ]
    },
    {
      "cell_type": "code",
      "metadata": {
        "id": "Zq-uH4YAFYp3"
      },
      "source": [
        "import jax.numpy as jnp\n",
        "import jax\n",
        "\n",
        "from flax import linen as nn\n",
        "from flax.training import train_state\n",
        "import flax\n",
        "import optax # Optimizers are here\n",
        "\n",
        "import tensorflow_datasets as tfds\n",
        "import numpy as np\n",
        "\n",
        "# Model metrics\n",
        "from sklearn.metrics import classification_report, confusion_matrix, matthews_corrcoef, auc, roc_curve\n",
        "from matplotlib import pyplot as plt\n",
        "import seaborn as sns\n",
        "from tqdm.notebook import tqdm"
      ],
      "execution_count": 2,
      "outputs": []
    },
    {
      "cell_type": "markdown",
      "metadata": {
        "id": "D7aUuTZ3GyNQ"
      },
      "source": [
        "# Lets import our data first\n",
        "- Lets use a popular datasets fashion_mnist\n",
        "- We can train a simple cnn to test our model\n",
        "- We can do a bit of EDA on it as well"
      ]
    },
    {
      "cell_type": "code",
      "metadata": {
        "id": "Clf00Y9cHCLF"
      },
      "source": [
        "(train_ds, valid_ds, test_ds), info_ds = tfds.load(\n",
        "    'fashion_mnist', split=['train', 'test[:50]', 'test[50:]'], data_dir='data',\n",
        "    with_info=True\n",
        ")"
      ],
      "execution_count": 3,
      "outputs": []
    },
    {
      "cell_type": "code",
      "metadata": {
        "id": "2lXQsjBvHaJj"
      },
      "source": [
        "# Lets do a bit of eda\n",
        "train_df = tfds.as_dataframe(train_ds, info_ds)"
      ],
      "execution_count": 4,
      "outputs": []
    },
    {
      "cell_type": "code",
      "metadata": {
        "id": "0Fdo_iSzInMT"
      },
      "source": [
        "label_names = info_ds.features['label'].names\n",
        "label_index = dict([(index, name) for index, name in enumerate(label_names)])"
      ],
      "execution_count": 5,
      "outputs": []
    },
    {
      "cell_type": "code",
      "metadata": {
        "id": "cUmHNmdLJcLN"
      },
      "source": [
        "train_df['label_names'] = train_df['label'].apply(lambda x: label_index[x])"
      ],
      "execution_count": 6,
      "outputs": []
    },
    {
      "cell_type": "code",
      "metadata": {
        "colab": {
          "base_uri": "https://localhost:8080/",
          "height": 560
        },
        "id": "B9RZLH07ILHq",
        "outputId": "63b7a7f7-5e72-4d0e-c623-867bd9f883b6"
      },
      "source": [
        "plt.figure(figsize=(15, 10))\n",
        "plt.title('Class Distribution')\n",
        "sns.countplot(data=train_df, x='label_names');"
      ],
      "execution_count": 7,
      "outputs": [
        {
          "output_type": "display_data",
          "data": {
            "image/png": "[encoded data removed]",
            "text/plain": [
              "<Figure size 1080x720 with 1 Axes>"
            ]
          },
          "metadata": {
            "tags": [],
            "needs_background": "light"
          }
        }
      ]
    },
    {
      "cell_type": "code",
      "metadata": {
        "colab": {
          "base_uri": "https://localhost:8080/",
          "height": 468
        },
        "id": "jK7HqG7iJyQW",
        "outputId": "0f59ca61-06e6-4fa8-8eb9-5c525a6ee5d5"
      },
      "source": [
        "plt.figure(figsize=(15, 10))\n",
        "\n",
        "for index, data in enumerate(train_ds.shuffle(100).take(10)):\n",
        "  plt.subplot(2, 5, index + 1)\n",
        "  plt.title(label_index[data['label'].numpy()])\n",
        "  plt.imshow(data['image'][:, :, 0], cmap='gray')"
      ],
      "execution_count": 8,
      "outputs": [
        {
          "output_type": "display_data",
          "data": {
            "image/png": "[encoded data removed]",
            "text/plain": [
              "<Figure size 1080x720 with 10 Axes>"
            ]
          },
          "metadata": {
            "tags": [],
            "needs_background": "light"
          }
        }
      ]
    },
    {
      "cell_type": "code",
      "metadata": {
        "id": "tr8Ui8LQSxP5"
      },
      "source": [
        "# Lets preapre the data for jax\n",
        "train_image = jnp.float32(list(map(lambda x: x['image'], train_ds))) / 255.\n",
        "val_image = jnp.float32(list(map(lambda x: x['image'], valid_ds))) / 255.\n",
        "test_image = jnp.float32(list(map(lambda x: x['image'], test_ds))) / 255.\n",
        "\n",
        "train_label = np.array(list(map(lambda x:x['label'], train_ds)))\n",
        "val_label = np.array(list(map(lambda x:x['label'], valid_ds)))\n",
        "test_label = np.array(list(map(lambda x:x['label'], test_ds)))"
      ],
      "execution_count": 9,
      "outputs": []
    },
    {
      "cell_type": "markdown",
      "metadata": {
        "id": "OOYR9y1wb4mt"
      },
      "source": [
        "# Lets build our model\n",
        "- Similar to how torch uses the nn.Module, we will use a jax version\n",
        "- But the naming and passing in features are closer to that of tensorflow and keras"
      ]
    },
    {
      "cell_type": "code",
      "metadata": {
        "id": "dGf43eDldRQs"
      },
      "source": [
        "class CNN(nn.Module):\n",
        "  @nn.compact\n",
        "  def __call__(self, x):\n",
        "    x = nn.Conv(32, kernel_size=(3, 3))(x)\n",
        "    x = nn.relu(x)\n",
        "    x = nn.max_pool(x, window_shape=(2, 2), strides=(2, 2))\n",
        "\n",
        "    x = nn.Conv(64, kernel_size=(3, 3))(x)\n",
        "    x = nn.relu(x)\n",
        "    x = nn.max_pool(x, window_shape=(2, 2), strides=(2, 2))\n",
        "\n",
        "    x = nn.Conv(128, kernel_size=(3, 3))(x)\n",
        "    x = nn.relu(x)\n",
        "    x = nn.max_pool(x, window_shape=(2, 2), strides=(2, 2))\n",
        "\n",
        "    x = x.reshape((x.shape[0], -1)) # Hmm no flatten layer , aw well\n",
        "    x = nn.Dense(256)(x)\n",
        "    x = nn.relu(x)\n",
        "    x = nn.Dense(10)(x)\n",
        "\n",
        "    return x"
      ],
      "execution_count": 10,
      "outputs": []
    },
    {
      "cell_type": "code",
      "metadata": {
        "id": "tl8qd2RDfjxS"
      },
      "source": [
        "rng = jax.random.PRNGKey(0)\n",
        "rng, init_rng = jax.random.split(rng)"
      ],
      "execution_count": 11,
      "outputs": []
    },
    {
      "cell_type": "code",
      "metadata": {
        "id": "Swzsk31zfyud"
      },
      "source": [
        "cnn = CNN()\n",
        "params = cnn.init(init_rng, jnp.ones([1, 28, 28, 1]))['params']"
      ],
      "execution_count": 12,
      "outputs": []
    },
    {
      "cell_type": "code",
      "metadata": {
        "id": "Wv2axLcTg0xG"
      },
      "source": [
        "optim = optax.adam(learning_rate=1e-4, eps=1e-8)"
      ],
      "execution_count": 13,
      "outputs": []
    },
    {
      "cell_type": "code",
      "metadata": {
        "id": "DW0D21Nyifyh"
      },
      "source": [
        "state = train_state.TrainState.create(apply_fn=cnn.apply, params=params, tx=optim)"
      ],
      "execution_count": 14,
      "outputs": []
    },
    {
      "cell_type": "markdown",
      "metadata": {
        "id": "i1AtPA6cjihc"
      },
      "source": [
        "# Train loop\n",
        "- Like in tensorflow gradients api and pytorch we can write our custom loop steps\n",
        "- Similar to tensorflow function we will use the jax jit function to optimize the jax code"
      ]
    },
    {
      "cell_type": "code",
      "metadata": {
        "id": "nlHcSnGpkEHD"
      },
      "source": [
        "def compute_metrics(logits, labels):\n",
        "  loss = jnp.mean(\n",
        "      optax.softmax_cross_entropy(\n",
        "          logits, jax.nn.one_hot(labels, num_classes=10)\n",
        "      )\n",
        "  )\n",
        "  accuracy = jnp.mean(jnp.argmax(logits, -1) == labels)\n",
        "  return {\n",
        "      'loss': loss,\n",
        "      'accuracy': accuracy\n",
        "  }"
      ],
      "execution_count": 15,
      "outputs": []
    },
    {
      "cell_type": "code",
      "metadata": {
        "id": "6ck-xrlwjxrW"
      },
      "source": [
        "# Step functions\n",
        "@jax.jit\n",
        "def train_step(state, image_batch, label_batch):\n",
        "  def loss_fn(params):\n",
        "    logits = CNN().apply({'params': params}, image_batch)\n",
        "    loss = jnp.mean(\n",
        "        optax.softmax_cross_entropy(\n",
        "            logits=logits,\n",
        "            labels=jax.nn.one_hot(label_batch, num_classes=10)\n",
        "        )\n",
        "    )\n",
        "\n",
        "    return loss, logits\n",
        "  \n",
        "  grad_fn = jax.value_and_grad(loss_fn, has_aux=True)\n",
        "  (_, logits), grads = grad_fn(state.params)\n",
        "  state = state.apply_gradients(grads=grads)\n",
        "  metrics = compute_metrics(logits, label_batch)\n",
        "\n",
        "  return state, metrics\n",
        "\n",
        "@jax.jit\n",
        "def eval_step(params, image_batch, label_batch):\n",
        "  logits = CNN().apply({'params': params}, image_batch)\n",
        "  return compute_metrics(logits, label_batch)"
      ],
      "execution_count": 16,
      "outputs": []
    },
    {
      "cell_type": "code",
      "metadata": {
        "id": "an3vsESipwcy"
      },
      "source": [
        "# Train epoch\n",
        "def train_epoch(state, image_batch, label_batch, batch_size, epoch, rng):\n",
        "  train_size = len(image_batch)\n",
        "  steps_per_epoch = train_size // batch_size\n",
        "\n",
        "  perms = jax.random.permutation(rng, train_size)\n",
        "  perms = perms[:steps_per_epoch * batch_size]\n",
        "  perms = perms.reshape((steps_per_epoch, batch_size))\n",
        "\n",
        "  batch_metrics = []\n",
        "\n",
        "  for perm in perms:\n",
        "    state, metrics = train_step(\n",
        "        state, image_batch[perm, ...], label_batch[perm, ...]\n",
        "    )\n",
        "    batch_metrics.append(metrics)\n",
        "\n",
        "  training_batch_metrics = jax.device_get(batch_metrics)\n",
        "  training_epoch_metrics = {\n",
        "      k: np.mean([metrics[k] for metrics in training_batch_metrics])\n",
        "      for k in training_batch_metrics[0]}\n",
        "\n",
        "  print('Training - epoch: %d, loss: %.4f, accuracy: %.2f' % (epoch, training_epoch_metrics['loss'], training_epoch_metrics['accuracy'] * 100))\n",
        "\n",
        "  return state, training_epoch_metrics"
      ],
      "execution_count": 17,
      "outputs": []
    },
    {
      "cell_type": "code",
      "metadata": {
        "id": "364A_GFZtcBL"
      },
      "source": [
        "def eval_model(params, image_batch, label_batch):\n",
        "  metrics = eval_step(params, image_batch, label_batch)\n",
        "  metrics = jax.device_get(metrics)\n",
        "  eval_summary = jax.tree_map(lambda x: x.item(), metrics)\n",
        "  return eval_summary['loss'], eval_summary['accuracy']"
      ],
      "execution_count": 18,
      "outputs": []
    },
    {
      "cell_type": "code",
      "metadata": {
        "colab": {
          "base_uri": "https://localhost:8080/",
          "height": 414,
          "referenced_widgets": [
            "90d294fbe3ca4d8eba60aee9d405f84d",
            "589f17f12d9b447b91f4c476d1455832",
            "97945075ba51463180d6a0277a9eec8c",
            "91342dd2e9724b8197e34a931dee24d3",
            "4144d4faa2f340a9b0719b7a83cbdc1a",
            "8e6b3b9660b84a62a381a7f07438777b",
            "9d7dd3bb0b094dbb9fc8a00afa219505",
            "fb6e8b3126324aeead09266f83db237b"
          ]
        },
        "id": "rCvCr9-XsFo9",
        "outputId": "4d364abb-1fbc-42d2-a587-633322552f2d"
      },
      "source": [
        "# The acutal training loop\n",
        "for epoch in tqdm(range(10)):\n",
        "  # Training\n",
        "  rng, input_rng = jax.random.split(rng)\n",
        "  state, train_metrics = train_epoch(state, train_image, train_label, 64, epoch, input_rng)\n",
        "\n",
        "  # Eval\n",
        "  test_loss, test_acc = eval_model(state.params, val_image, val_label)\n",
        "  print('Testing - epoch: %d, loss: %.2f, accuracy: %.2f' % (epoch, test_loss, test_acc * 100))\n"
      ],
      "execution_count": 19,
      "outputs": [
        {
          "output_type": "display_data",
          "data": {
            "application/vnd.jupyter.widget-view+json": {
              "model_id": "90d294fbe3ca4d8eba60aee9d405f84d",
              "version_minor": 0,
              "version_major": 2
            },
            "text/plain": [
              "HBox(children=(FloatProgress(value=0.0, max=10.0), HTML(value='')))"
            ]
          },
          "metadata": {
            "tags": []
          }
        },
        {
          "output_type": "stream",
          "text": [
            "Training - epoch: 0, loss: 0.6425, accuracy: 77.91\n",
            "Testing - epoch: 0, loss: 0.38, accuracy: 84.00\n",
            "Training - epoch: 1, loss: 0.3922, accuracy: 86.01\n",
            "Testing - epoch: 1, loss: 0.25, accuracy: 92.00\n",
            "Training - epoch: 2, loss: 0.3373, accuracy: 87.94\n",
            "Testing - epoch: 2, loss: 0.20, accuracy: 94.00\n",
            "Training - epoch: 3, loss: 0.3115, accuracy: 88.75\n",
            "Testing - epoch: 3, loss: 0.16, accuracy: 100.00\n",
            "Training - epoch: 4, loss: 0.2881, accuracy: 89.65\n",
            "Testing - epoch: 4, loss: 0.17, accuracy: 98.00\n",
            "Training - epoch: 5, loss: 0.2710, accuracy: 90.14\n",
            "Testing - epoch: 5, loss: 0.13, accuracy: 98.00\n",
            "Training - epoch: 6, loss: 0.2583, accuracy: 90.72\n",
            "Testing - epoch: 6, loss: 0.09, accuracy: 98.00\n",
            "Training - epoch: 7, loss: 0.2453, accuracy: 91.15\n",
            "Testing - epoch: 7, loss: 0.12, accuracy: 100.00\n",
            "Training - epoch: 8, loss: 0.2331, accuracy: 91.65\n",
            "Testing - epoch: 8, loss: 0.12, accuracy: 96.00\n",
            "Training - epoch: 9, loss: 0.2234, accuracy: 91.93\n",
            "Testing - epoch: 9, loss: 0.17, accuracy: 94.00\n",
            "\n"
          ],
          "name": "stdout"
        }
      ]
    },
    {
      "cell_type": "markdown",
      "metadata": {
        "id": "nbEzufPyvFMa"
      },
      "source": [
        "# Model Evaluation\n",
        "- Lets make a forward pass with the jax/flax model\n",
        "- Seems like gpu is automatically allocated, therefore its not necessary to load like torch, seems to function very close to tensorflow"
      ]
    },
    {
      "cell_type": "code",
      "metadata": {
        "id": "Yotjtcd9uA7C"
      },
      "source": [
        "# Forward pass - quite different from torch\n",
        "y_pred = cnn.apply({'params': state.params}, test_image).argmax(axis=1)"
      ],
      "execution_count": 20,
      "outputs": []
    },
    {
      "cell_type": "code",
      "metadata": {
        "colab": {
          "base_uri": "https://localhost:8080/"
        },
        "id": "-EM-qP7Dui0k",
        "outputId": "04726881-8a14-48b7-a1c6-59fe85e94a86"
      },
      "source": [
        "print(classification_report(test_label, y_pred, target_names=label_names))"
      ],
      "execution_count": 21,
      "outputs": [
        {
          "output_type": "stream",
          "text": [
            "              precision    recall  f1-score   support\n",
            "\n",
            " T-shirt/top       0.87      0.84      0.86       993\n",
            "     Trouser       0.99      0.98      0.98       998\n",
            "    Pullover       0.92      0.77      0.84       995\n",
            "       Dress       0.88      0.93      0.90       996\n",
            "        Coat       0.81      0.86      0.84       990\n",
            "      Sandal       0.99      0.97      0.98       995\n",
            "       Shirt       0.72      0.78      0.74       998\n",
            "     Sneaker       0.93      0.98      0.96       991\n",
            "         Bag       0.99      0.97      0.98       999\n",
            "  Ankle boot       0.97      0.95      0.96       995\n",
            "\n",
            "    accuracy                           0.90      9950\n",
            "   macro avg       0.91      0.90      0.90      9950\n",
            "weighted avg       0.91      0.90      0.90      9950\n",
            "\n"
          ],
          "name": "stdout"
        }
      ]
    },
    {
      "cell_type": "code",
      "metadata": {
        "colab": {
          "base_uri": "https://localhost:8080/",
          "height": 614
        },
        "id": "cBKteTbpvCri",
        "outputId": "a3a14905-2214-4d24-8f6f-d19219476ea2"
      },
      "source": [
        "plt.figure(figsize=(15, 10))\n",
        "sns.heatmap(confusion_matrix(test_label, y_pred), annot=True, fmt='d', xticklabels=label_names, yticklabels=label_names)"
      ],
      "execution_count": 22,
      "outputs": [
        {
          "output_type": "execute_result",
          "data": {
            "text/plain": [
              "<matplotlib.axes._subplots.AxesSubplot at 0x7fd0124a9590>"
            ]
          },
          "metadata": {
            "tags": []
          },
          "execution_count": 22
        },
        {
          "output_type": "display_data",
          "data": {
            "image/png": "[encoded data removed]",
            "text/plain": [
              "<Figure size 1080x720 with 2 Axes>"
            ]
          },
          "metadata": {
            "tags": [],
            "needs_background": "light"
          }
        }
      ]
    },
    {
      "cell_type": "code",
      "metadata": {
        "colab": {
          "base_uri": "https://localhost:8080/"
        },
        "id": "gqwhxfGpvds1",
        "outputId": "862700f1-a7fb-42ef-e70b-81c988b7e751"
      },
      "source": [
        "print('MCC Acc: {:.2f}'.format(matthews_corrcoef(test_label, y_pred) * 100))"
      ],
      "execution_count": 23,
      "outputs": [
        {
          "output_type": "stream",
          "text": [
            "MCC Acc: 89.32\n"
          ],
          "name": "stdout"
        }
      ]
    }
  ]
}